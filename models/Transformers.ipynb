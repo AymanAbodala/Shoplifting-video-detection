{
  "nbformat": 4,
  "nbformat_minor": 0,
  "metadata": {
    "colab": {
      "provenance": [],
      "gpuType": "T4"
    },
    "kernelspec": {
      "name": "python3",
      "display_name": "Python 3"
    },
    "language_info": {
      "name": "python"
    },
    "accelerator": "GPU"
  },
  "cells": [
    {
      "cell_type": "markdown",
      "source": [
        "# بسم الله الرحمن الرحيم"
      ],
      "metadata": {
        "id": "-QWoUxFXdPs5"
      }
    },
    {
      "cell_type": "code",
      "source": [
        "!pip install evaluate"
      ],
      "metadata": {
        "collapsed": true,
        "id": "aoanuZMbi8R9"
      },
      "execution_count": null,
      "outputs": []
    },
    {
      "cell_type": "code",
      "source": [
        "import os\n",
        "import cv2\n",
        "import random\n",
        "import numpy as np\n",
        "import pandas as pd\n",
        "import matplotlib.pyplot as plt\n",
        "from sklearn.model_selection import train_test_split\n",
        "import zipfile\n",
        "import torch\n",
        "from torch.utils.data import Dataset\n",
        "\n",
        "from transformers import (\n",
        "    AutoProcessor,\n",
        "    VideoMAEForVideoClassification,\n",
        "    # ViViTForVideoClassification,\n",
        "    TrainingArguments,\n",
        "    Trainer\n",
        ")\n",
        "\n",
        "import evaluate\n"
      ],
      "metadata": {
        "id": "az6RJdVQdUm2"
      },
      "execution_count": null,
      "outputs": []
    },
    {
      "cell_type": "code",
      "source": [
        "# === utils / seed / device ===\n",
        "def set_seed(seed=42):\n",
        "    random.seed(seed)\n",
        "    np.random.seed(seed)\n",
        "    torch.manual_seed(seed)\n",
        "    torch.cuda.manual_seed_all(seed)\n",
        "\n",
        "set_seed(42)\n",
        "device = torch.device(\"cuda\" if torch.cuda.is_available() else \"cpu\")\n",
        "print(\"Device:\", device)\n"
      ],
      "metadata": {
        "id": "6D6kPhCxp7wM"
      },
      "execution_count": null,
      "outputs": []
    },
    {
      "cell_type": "code",
      "source": [
        "with zipfile.ZipFile('/content/drive/MyDrive/Data set/Shop DataSet.zip','r') as file :\n",
        "  file.extractall('/content/Data set')"
      ],
      "metadata": {
        "id": "D-bwGIkyhQH6"
      },
      "execution_count": null,
      "outputs": []
    },
    {
      "cell_type": "code",
      "source": [
        "from google.colab import drive\n",
        "drive.mount('/content/drive')"
      ],
      "metadata": {
        "id": "Gh3paQ8ofA-Z"
      },
      "execution_count": null,
      "outputs": []
    },
    {
      "cell_type": "code",
      "source": [
        "dataset = {}\n",
        "datapath = '/content/Data set/Shop DataSet'\n",
        "\n",
        "for filename in os.listdir(datapath):\n",
        "  videos_paths = []\n",
        "  for video_name in os.listdir(os.path.join(datapath,filename)):\n",
        "    videos_paths.append(os.path.join(datapath,filename,video_name))\n",
        "  dataset[filename] = videos_paths\n"
      ],
      "metadata": {
        "id": "BRbKYxxdr3pY"
      },
      "execution_count": null,
      "outputs": []
    },
    {
      "cell_type": "code",
      "source": [
        "plt.figure(figsize=(5,5))\n",
        "plt.bar(dataset.keys(), [len(videos) for videos in dataset.values()])\n",
        "plt.show()"
      ],
      "metadata": {
        "id": "4bXnFXmChlBU"
      },
      "execution_count": null,
      "outputs": []
    },
    {
      "cell_type": "code",
      "source": [
        "data_list = []\n",
        "for category, videos in dataset.items():\n",
        "    for video_path in videos:\n",
        "        data_list.append({'labels': category, 'Video Path': video_path})\n",
        "\n",
        "df_videos = pd.DataFrame(data_list)\n",
        "df_videos"
      ],
      "metadata": {
        "id": "D2wD9Q22hvBp"
      },
      "execution_count": null,
      "outputs": []
    },
    {
      "cell_type": "code",
      "source": [
        "# Identify the minority and majority classes\n",
        "class_counts = df_videos['labels'].value_counts()\n",
        "minority_class = class_counts.idxmin()\n",
        "majority_class = class_counts.idxmax()\n",
        "minority_count = class_counts[minority_class]\n",
        "majority_count = class_counts[majority_class]\n",
        "\n",
        "print(f\"Minority class: {minority_class} with {minority_count} samples\")\n",
        "print(f\"Majority class: {majority_class} with {majority_count} samples\")\n",
        "\n",
        "# Separate minority and majority class samples\n",
        "df_minority = df_videos[df_videos['labels'] == minority_class]\n",
        "df_majority = df_videos[df_videos['labels'] == majority_class]\n",
        "\n",
        "# Randomly duplicate minority class samples\n",
        "df_minority_oversampled = df_minority.sample(majority_count, replace=True, random_state=42)\n",
        "\n",
        "# Concatenate the oversampled minority class with the majority class\n",
        "df_oversampled = pd.concat([df_majority, df_minority_oversampled], axis=0)\n",
        "\n",
        "# Shuffle the oversampled dataset\n",
        "df_oversampled = df_oversampled.sample(frac=1, random_state=42).reset_index(drop=True)\n",
        "\n",
        "print(\"\\nClass distribution after oversampling:\")\n",
        "print(df_oversampled['labels'].value_counts())\n",
        "\n",
        "oversampled_class_counts = df_oversampled['labels'].value_counts()\n",
        "plt.figure(figsize=(5,5))\n",
        "plt.bar(oversampled_class_counts.index, oversampled_class_counts.values)\n",
        "plt.title('Class Distribution After Oversampling')\n",
        "plt.xlabel('Class')\n",
        "plt.ylabel('Number of Samples')\n",
        "plt.show()"
      ],
      "metadata": {
        "id": "DLk6wnWdh1ch"
      },
      "execution_count": null,
      "outputs": []
    },
    {
      "cell_type": "code",
      "source": [
        "from sklearn.preprocessing import LabelEncoder\n",
        "le = LabelEncoder()\n",
        "df_oversampled['labels'] = le.fit_transform(df_oversampled['labels'])\n",
        "df_oversampled"
      ],
      "metadata": {
        "id": "SKcQlGgmiDI5"
      },
      "execution_count": null,
      "outputs": []
    },
    {
      "cell_type": "code",
      "source": [
        "class VideoDataset(Dataset):\n",
        "    def __init__(self, df, processor, frames_per_video=16, img_size=(224,224)):\n",
        "        self.df = df.reset_index(drop=True)\n",
        "        self.processor = processor\n",
        "        self.frames_per_video = frames_per_video\n",
        "        self.img_size = img_size\n",
        "\n",
        "    def __len__(self):\n",
        "        return len(self.df)\n",
        "\n",
        "    def _read_frames(self, path):\n",
        "        cap = cv2.VideoCapture(path)\n",
        "        frames = []\n",
        "        while len(frames) < self.frames_per_video:\n",
        "            ret, frame = cap.read()\n",
        "            if not ret:\n",
        "                break\n",
        "            frame = cv2.resize(frame, self.img_size)\n",
        "            frame = cv2.cvtColor(frame, cv2.COLOR_BGR2RGB)\n",
        "            frame = frame.astype(np.float32) / 255.0\n",
        "            frames.append(frame)\n",
        "        cap.release()\n",
        "        # padding if short\n",
        "        if len(frames) == 0:\n",
        "            # in case the video can't be read, return zeros\n",
        "            return [np.zeros((self.img_size[0], self.img_size[1], 3), dtype=np.float32)] * self.frames_per_video\n",
        "        while len(frames) < self.frames_per_video:\n",
        "            frames.append(np.zeros_like(frames[0], dtype=np.float32))\n",
        "        return frames\n",
        "\n",
        "    def __getitem__(self, idx):\n",
        "        row = self.df.iloc[idx]\n",
        "        path = row['Video Path']\n",
        "        label = int(row['labels'])  # ensure int label\n",
        "\n",
        "        frames = self._read_frames(path)  # list of (H,W,C) numpy arrays\n",
        "\n",
        "        # processor will produce tensors shaped the way the model expects\n",
        "        inputs = self.processor(frames, return_tensors=\"pt\")  # e.g. {'pixel_values': tensor(1, C, T, H, W)}\n",
        "        # remove batch dim\n",
        "        item = {k: v.squeeze(0) for k, v in inputs.items()}\n",
        "        item[\"labels\"] = torch.tensor(label, dtype=torch.long)\n",
        "        return item\n"
      ],
      "metadata": {
        "id": "mPKGny09hfix"
      },
      "execution_count": null,
      "outputs": []
    },
    {
      "cell_type": "code",
      "source": [
        "train_df, test_df = train_test_split(df_oversampled, test_size=0.2, random_state=42)"
      ],
      "metadata": {
        "id": "E2XVHDk6sXW0"
      },
      "execution_count": null,
      "outputs": []
    },
    {
      "cell_type": "code",
      "source": [
        "\n",
        "model1_id = \"MCG-NJU/videomae-base\"                       # original TF TimeSformer cell used this id\n",
        "model2_id = \"MCG-NJU/videomae-base-finetuned-kinetics\"    # VideoMAE\n",
        "model3_id = \"google/vivit-b-16x2-kinetics400\"             # ViViT\n",
        "\n",
        "# Use AutoProcessor for each model (processor often compatible across these video models)\n",
        "processor = AutoProcessor.from_pretrained(model1_id)\n",
        "\n",
        "train_dataset = VideoDataset(train_df, processor = processor)\n",
        "eval_dataset  = VideoDataset(test_df,  processor = processor)\n"
      ],
      "metadata": {
        "id": "-RgHn7AvwDg0"
      },
      "execution_count": null,
      "outputs": []
    },
    {
      "cell_type": "code",
      "source": [
        "accuracy_metric = evaluate.load(\"accuracy\")\n",
        "def compute_metrics(eval_pred):\n",
        "    logits, labels = eval_pred\n",
        "    preds = np.argmax(logits, axis=-1)\n",
        "    return accuracy_metric.compute(predictions=preds, references=labels)\n"
      ],
      "metadata": {
        "id": "DyNhI0qsxF7F"
      },
      "execution_count": null,
      "outputs": []
    },
    {
      "cell_type": "code",
      "source": [
        "import inspect\n",
        "\n",
        "def make_training_args_safe(**kwargs):\n",
        "    \"\"\"\n",
        "    Build TrainingArguments robustly for different transformers versions.\n",
        "    Ensures evaluation/save strategies are consistent or disables load_best_model_at_end.\n",
        "    \"\"\"\n",
        "    sig = inspect.signature(TrainingArguments.__init__)\n",
        "    accepted = set(sig.parameters.keys()) - {\"self\", \"args\", \"kwargs\"}\n",
        "\n",
        "    # find which names this version accepts for eval/save strategy\n",
        "    eval_keys = [k for k in (\"evaluation_strategy\", \"eval_strategy\") if k in accepted]\n",
        "    save_keys = [k for k in (\"save_strategy\",) if k in accepted]  # usually save_strategy exists\n",
        "\n",
        "    # copy only accepted kwargs\n",
        "    filtered = {k: v for k, v in kwargs.items() if k in accepted}\n",
        "\n",
        "    # if user asked to load best model at end, ensure eval & save strategies exist and match\n",
        "    if filtered.get(\"load_best_model_at_end\", False):\n",
        "        # choose keys available\n",
        "        eval_key = eval_keys[0] if eval_keys else None\n",
        "        save_key = save_keys[0] if save_keys else None\n",
        "\n",
        "        if eval_key is None or save_key is None:\n",
        "            # cannot guarantee strategies in this transformers version -> disable feature\n",
        "            filtered[\"load_best_model_at_end\"] = False\n",
        "        else:\n",
        "            # if both keys not provided in filtered, set default to \"epoch\"\n",
        "            if eval_key not in filtered and save_key not in filtered:\n",
        "                filtered[eval_key] = \"epoch\"\n",
        "                filtered[save_key] = \"epoch\"\n",
        "            # if one provided but other not, copy it\n",
        "            elif eval_key in filtered and save_key not in filtered:\n",
        "                filtered[save_key] = filtered[eval_key]\n",
        "            elif save_key in filtered and eval_key not in filtered:\n",
        "                filtered[eval_key] = filtered[save_key]\n",
        "            # if both exist but different, override to match (choose eval value)\n",
        "            elif filtered.get(eval_key) != filtered.get(save_key):\n",
        "                filtered[save_key] = filtered[eval_key]\n",
        "\n",
        "    # output_dir is required\n",
        "    if \"output_dir\" not in filtered:\n",
        "        raise ValueError(\"output_dir is required for TrainingArguments.\")\n",
        "\n",
        "    return TrainingArguments(**filtered)\n",
        "\n",
        "\n",
        "def fine_tune_model(model_class, model_id, out_dir,\n",
        "                    num_labels=2, epochs=10, per_device_batch_size=2, lr=0.01):\n",
        "    # load model (ignore mismatched sizes so backbone loads, head reinit)\n",
        "    model = model_class.from_pretrained(model_id, num_labels=num_labels, ignore_mismatched_sizes=True).to(device)\n",
        "\n",
        "    ta_kwargs = dict(\n",
        "        output_dir=out_dir,\n",
        "        # use keys that newer versions accept; make_training_args_safe will adapt if needed\n",
        "        evaluation_strategy=\"epoch\",\n",
        "        save_strategy=\"epoch\",\n",
        "        learning_rate=lr,\n",
        "        per_device_train_batch_size=per_device_batch_size,\n",
        "        per_device_eval_batch_size=per_device_batch_size,\n",
        "        num_train_epochs=epochs,\n",
        "        weight_decay=0.01,\n",
        "        load_best_model_at_end=True,\n",
        "        fp16=torch.cuda.is_available(),\n",
        "        logging_dir=f\"{out_dir}/logs\",\n",
        "        logging_steps=10,\n",
        "        push_to_hub=False\n",
        "    )\n",
        "\n",
        "    training_args = make_training_args_safe(**ta_kwargs)\n",
        "\n",
        "    trainer = Trainer(\n",
        "        model=model,\n",
        "        args=training_args,\n",
        "        train_dataset=train_dataset,\n",
        "        eval_dataset=eval_dataset,\n",
        "        tokenizer=processor,\n",
        "        compute_metrics=compute_metrics\n",
        "    )\n",
        "\n",
        "    trainer.train()\n",
        "    eval_res = trainer.evaluate(eval_dataset)\n",
        "    trainer.save_model(out_dir)\n",
        "    processor.save_pretrained(out_dir)\n",
        "    return trainer, eval_res\n"
      ],
      "metadata": {
        "id": "waoe5MzpxRiw"
      },
      "execution_count": null,
      "outputs": []
    },
    {
      "cell_type": "code",
      "source": [
        "trainer2, eval2 = fine_tune_model(VideoMAEForVideoClassification, model2_id, out_dir=\"results/videomae\", epochs=10, per_device_batch_size=2 , lr=0.01)\n",
        "print(\"Model 2 eval:\", eval2)"
      ],
      "metadata": {
        "id": "_ib6BvzyxmDy"
      },
      "execution_count": null,
      "outputs": []
    }
  ]
}